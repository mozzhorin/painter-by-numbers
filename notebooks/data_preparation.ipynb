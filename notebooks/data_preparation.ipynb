{
 "cells": [
  {
   "cell_type": "markdown",
   "metadata": {},
   "source": [
    "# Data preparation"
   ]
  },
  {
   "cell_type": "code",
   "execution_count": 1,
   "metadata": {},
   "outputs": [],
   "source": [
    "import random\n",
    "import numpy as np\n",
    "import pandas as pd\n",
    "import matplotlib.pyplot as plt\n",
    "import cv2\n",
    "import os\n",
    "import pickle\n",
    "from shutil import copy2\n",
    "import tensorflow\n",
    "import IPython"
   ]
  },
  {
   "cell_type": "code",
   "execution_count": 2,
   "metadata": {},
   "outputs": [],
   "source": [
    "def mkdir_if_not_exist(path):\n",
    "    if not os.path.exists(path):\n",
    "        os.mkdir(path)\n",
    "        print('Created:', path)\n",
    "    else:\n",
    "        print('Exists:', path)"
   ]
  },
  {
   "cell_type": "code",
   "execution_count": 3,
   "metadata": {},
   "outputs": [
    {
     "data": {
      "text/plain": [
       "Index(['Paul Cezanne', 'Giovanni Battista Piranesi', 'Martiros Saryan',\n",
       "       'Ilya Repin', 'Camille Pissarro', 'Vincent van Gogh',\n",
       "       'Theophile Steinlen', 'Pyotr Konchalovsky', 'Pierre-Auguste Renoir',\n",
       "       'Boris Kustodiev'],\n",
       "      dtype='object', name='artist')"
      ]
     },
     "execution_count": 3,
     "metadata": {},
     "output_type": "execute_result"
    }
   ],
   "source": [
    "# Import CSV and select top 10 painters\n",
    "df = pd.read_csv('../all_data_info.csv')\n",
    "mask = df['in_train']\n",
    "train_3_df = df[mask]\n",
    "top10 = train_3_df.groupby('artist').count().sort_values(by='title', ascending=False).head(10)\n",
    "top10.index"
   ]
  },
  {
   "cell_type": "code",
   "execution_count": 11,
   "metadata": {},
   "outputs": [
    {
     "name": "stdout",
     "output_type": "stream",
     "text": [
      "Copied 2 images of Paul Cezanne\n",
      "Copied 2 images of Giovanni Battista Piranesi\n",
      "Copied 2 images of Martiros Saryan\n",
      "Copied 2 images of Ilya Repin\n",
      "Copied 2 images of Camille Pissarro\n",
      "Copied 2 images of Vincent van Gogh\n",
      "Copied 2 images of Theophile Steinlen\n",
      "Copied 2 images of Pyotr Konchalovsky\n",
      "Copied 2 images of Pierre-Auguste Renoir\n",
      "Copied 2 images of Boris Kustodiev\n"
     ]
    }
   ],
   "source": [
    "# Copy pictures of top 10 artists to a separate folder\n",
    "input_dir = '/media/mo/My Passport/painters/train/'\n",
    "output_dir = '/home/mo/Downloads/painters/top10_/'\n",
    "mkdir_if_not_exist(output_dir)\n",
    "\n",
    "for i in range(len(top10.index)):\n",
    "    files = list(train_3_df[(train_3_df['artist'] == top10.index[i])]['new_filename'])\n",
    "    count = 0\n",
    "    num = 2    \n",
    "    for f in files:\n",
    "        if (count < num) and os.path.exists(input_dir+f):\n",
    "            copy2(input_dir+f, output_dir)\n",
    "            count +=1\n",
    "    print('Copied %d images of %s' % (count, top10.index[i]))"
   ]
  },
  {
   "cell_type": "code",
   "execution_count": 23,
   "metadata": {},
   "outputs": [
    {
     "name": "stdout",
     "output_type": "stream",
     "text": [
      "Exists: /home/mo/Downloads/painters/top10_x448_/\n",
      "Created: /home/mo/Downloads/painters/train_/\n",
      "Created: /home/mo/Downloads/painters/test_/\n"
     ]
    }
   ],
   "source": [
    "# Create folders\n",
    "data_dir = '/home/mo/Downloads/painters/'\n",
    "train_dir = data_dir + 'top10_x448_/'\n",
    "\n",
    "working_train_dir = data_dir + \"train_/\"\n",
    "working_test_dir = data_dir + \"test_/\"\n",
    "\n",
    "mkdir_if_not_exist(train_dir)\n",
    "mkdir_if_not_exist(working_train_dir)\n",
    "mkdir_if_not_exist(working_test_dir)"
   ]
  },
  {
   "cell_type": "code",
   "execution_count": 16,
   "metadata": {},
   "outputs": [],
   "source": [
    "# Resize images to train_dir\n",
    "!mogrify -resize \"448^>\" -path {train_dir} {output_dir}*.jpg"
   ]
  },
  {
   "cell_type": "code",
   "execution_count": 24,
   "metadata": {
    "scrolled": true
   },
   "outputs": [
    {
     "name": "stdout",
     "output_type": "stream",
     "text": [
      "Created: /home/mo/Downloads/painters/train_/Paul Cezanne\n",
      "Created: /home/mo/Downloads/painters/train_/Giovanni Battista Piranesi\n",
      "Created: /home/mo/Downloads/painters/train_/Martiros Saryan\n",
      "Created: /home/mo/Downloads/painters/train_/Ilya Repin\n",
      "Created: /home/mo/Downloads/painters/train_/Camille Pissarro\n",
      "Created: /home/mo/Downloads/painters/train_/Vincent van Gogh\n",
      "Created: /home/mo/Downloads/painters/train_/Theophile Steinlen\n",
      "Created: /home/mo/Downloads/painters/train_/Pyotr Konchalovsky\n",
      "Created: /home/mo/Downloads/painters/train_/Pierre-Auguste Renoir\n",
      "Created: /home/mo/Downloads/painters/train_/Boris Kustodiev\n",
      "Created: /home/mo/Downloads/painters/test_/Paul Cezanne\n",
      "Created: /home/mo/Downloads/painters/test_/Giovanni Battista Piranesi\n",
      "Created: /home/mo/Downloads/painters/test_/Martiros Saryan\n",
      "Created: /home/mo/Downloads/painters/test_/Ilya Repin\n",
      "Created: /home/mo/Downloads/painters/test_/Camille Pissarro\n",
      "Created: /home/mo/Downloads/painters/test_/Vincent van Gogh\n",
      "Created: /home/mo/Downloads/painters/test_/Theophile Steinlen\n",
      "Created: /home/mo/Downloads/painters/test_/Pyotr Konchalovsky\n",
      "Created: /home/mo/Downloads/painters/test_/Pierre-Auguste Renoir\n",
      "Created: /home/mo/Downloads/painters/test_/Boris Kustodiev\n"
     ]
    }
   ],
   "source": [
    "# Create train and test folders for each painter\n",
    "\n",
    "artist_dirs = []\n",
    "test_artist_dirs = []\n",
    "for a in top10.index:\n",
    "    artist_dirs.append(working_train_dir + a)\n",
    "    test_artist_dirs.append(working_test_dir + a)\n",
    "\n",
    "for d in artist_dirs:    \n",
    "    mkdir_if_not_exist(d)\n",
    "\n",
    "for d in test_artist_dirs:    \n",
    "    mkdir_if_not_exist(d)"
   ]
  },
  {
   "cell_type": "code",
   "execution_count": 25,
   "metadata": {
    "scrolled": false
   },
   "outputs": [
    {
     "name": "stdout",
     "output_type": "stream",
     "text": [
      "Copied to /home/mo/Downloads/painters/test_/Paul Cezanne : 1 images\n",
      "Copied to /home/mo/Downloads/painters/train_/Paul Cezanne : 1 images\n",
      "Copied to /home/mo/Downloads/painters/test_/Giovanni Battista Piranesi : 1 images\n",
      "Copied to /home/mo/Downloads/painters/train_/Giovanni Battista Piranesi : 1 images\n",
      "Copied to /home/mo/Downloads/painters/test_/Martiros Saryan : 1 images\n",
      "Copied to /home/mo/Downloads/painters/train_/Martiros Saryan : 1 images\n",
      "Copied to /home/mo/Downloads/painters/test_/Ilya Repin : 1 images\n",
      "Copied to /home/mo/Downloads/painters/train_/Ilya Repin : 1 images\n",
      "Copied to /home/mo/Downloads/painters/test_/Camille Pissarro : 1 images\n",
      "Copied to /home/mo/Downloads/painters/train_/Camille Pissarro : 1 images\n",
      "Copied to /home/mo/Downloads/painters/test_/Vincent van Gogh : 1 images\n",
      "Copied to /home/mo/Downloads/painters/train_/Vincent van Gogh : 1 images\n",
      "Copied to /home/mo/Downloads/painters/test_/Theophile Steinlen : 1 images\n",
      "Copied to /home/mo/Downloads/painters/train_/Theophile Steinlen : 1 images\n",
      "Copied to /home/mo/Downloads/painters/test_/Pyotr Konchalovsky : 1 images\n",
      "Copied to /home/mo/Downloads/painters/train_/Pyotr Konchalovsky : 1 images\n",
      "Copied to /home/mo/Downloads/painters/test_/Pierre-Auguste Renoir : 1 images\n",
      "Copied to /home/mo/Downloads/painters/train_/Pierre-Auguste Renoir : 1 images\n",
      "Copied to /home/mo/Downloads/painters/test_/Boris Kustodiev : 1 images\n",
      "Copied to /home/mo/Downloads/painters/train_/Boris Kustodiev : 1 images\n"
     ]
    }
   ],
   "source": [
    "# Copy train and test images\n",
    "\n",
    "train_num = 1 #Number of train images (366)\n",
    "test_num = 1   #Number of test images (20)\n",
    "\n",
    "for i in range(len(top10.index)):\n",
    "    test_count = 0\n",
    "    train_count = 0\n",
    "    files = list(train_3_df[(train_3_df['artist'] == top10.index[i])]['new_filename'])\n",
    "    random.shuffle(files)\n",
    "    for f in files:\n",
    "        if (test_count < test_num) and os.path.exists(train_dir+f) and not os.path.exists(test_artist_dirs[i]+f):\n",
    "            copy2(train_dir+f, test_artist_dirs[i])\n",
    "            test_count +=1\n",
    "        elif (train_count < train_num) and os.path.exists(train_dir+f) and not os.path.exists(artist_dirs[i]+f):\n",
    "            copy2(train_dir+f, artist_dirs[i])\n",
    "            train_count +=1\n",
    "    print('Copied to %s : %s images' % (str(test_artist_dirs[i]), str(test_count)))\n",
    "    print('Copied to %s : %s images' % (str(artist_dirs[i]), str(train_count)))"
   ]
  }
 ],
 "metadata": {
  "@webio": {
   "lastCommId": null,
   "lastKernelId": null
  },
  "kernelspec": {
   "display_name": "Python 3",
   "language": "python",
   "name": "python3"
  },
  "language_info": {
   "codemirror_mode": {
    "name": "ipython",
    "version": 3
   },
   "file_extension": ".py",
   "mimetype": "text/x-python",
   "name": "python",
   "nbconvert_exporter": "python",
   "pygments_lexer": "ipython3",
   "version": "3.7.3"
  }
 },
 "nbformat": 4,
 "nbformat_minor": 2
}
